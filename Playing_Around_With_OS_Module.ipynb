{
  "nbformat": 4,
  "nbformat_minor": 0,
  "metadata": {
    "colab": {
      "provenance": [],
      "authorship_tag": "ABX9TyP1ZmTJG/LFJiUxuJa2pOFT",
      "include_colab_link": true
    },
    "kernelspec": {
      "name": "python3",
      "display_name": "Python 3"
    },
    "language_info": {
      "name": "python"
    }
  },
  "cells": [
    {
      "cell_type": "markdown",
      "metadata": {
        "id": "view-in-github",
        "colab_type": "text"
      },
      "source": [
        "<a href=\"https://colab.research.google.com/github/Kartik-Koul/Working-with-Python_Modules/blob/main/Playing_Around_With_OS_Module.ipynb\" target=\"_parent\"><img src=\"https://colab.research.google.com/assets/colab-badge.svg\" alt=\"Open In Colab\"/></a>"
      ]
    },
    {
      "cell_type": "code",
      "execution_count": 1,
      "metadata": {
        "id": "y1ZFNY9o9MAQ"
      },
      "outputs": [],
      "source": [
        "# The OS module basically works on automating the tasks that one otherwise performs manually in an operating system.\n",
        "# A very prominent example is the creation and deletion of files, which can be easily performed with the help of this module."
      ]
    },
    {
      "cell_type": "code",
      "source": [
        "import os # Importing the OS module into our workspace"
      ],
      "metadata": {
        "id": "089ohVL8-xmq"
      },
      "execution_count": 2,
      "outputs": []
    },
    {
      "cell_type": "code",
      "source": [
        "# Let us assume we want to make a folder named \"alphabets\" and store some images in each of the 26 sub-folders it will have.\n",
        "# Then how do we go about creating this folder?"
      ],
      "metadata": {
        "id": "qo7UpsDb_E_S"
      },
      "execution_count": 4,
      "outputs": []
    },
    {
      "cell_type": "code",
      "source": [
        "# Firstly, we check whether a folder called \"alphabets\" already exists or not.\n",
        "# If not, then we create a folder with that name."
      ],
      "metadata": {
        "id": "q5A_Ti59_TEe"
      },
      "execution_count": 5,
      "outputs": []
    },
    {
      "cell_type": "code",
      "source": [
        "if (not os.path.exists(\"alphabets\")): # Checking whether the folder actually exists or not\n",
        "  os.mkdir(\"alphabets\") # Creating the folder if it doesn't exist"
      ],
      "metadata": {
        "id": "TW7DqLOw-0yQ"
      },
      "execution_count": 7,
      "outputs": []
    },
    {
      "cell_type": "code",
      "source": [
        "# Now that we have a main folder, we want to create sub-folders for each alphabet.\n",
        "# Normally, creating 26 folders manually would have taken a good amount of time.\n",
        "# Here, however, we can use the OS module to do so in no time with simply 3 lines of code."
      ],
      "metadata": {
        "id": "gGvRqo7d_sB3"
      },
      "execution_count": 8,
      "outputs": []
    },
    {
      "cell_type": "code",
      "source": [
        "for i in range(26):\n",
        "  os.mkdir(f\"alphabets/alphabet{i+1}\")"
      ],
      "metadata": {
        "id": "wn-qZaBmAGIF"
      },
      "execution_count": 11,
      "outputs": []
    },
    {
      "cell_type": "code",
      "source": [
        "# We have successfully created our 26 sub-folders.\n",
        "# But what if we want to name our folders a bit differently?\n",
        "# What if we want to rename them according to the alphabets?\n",
        "# Well, that can be done as well!"
      ],
      "metadata": {
        "id": "kphn7uzBAUYr"
      },
      "execution_count": 12,
      "outputs": []
    },
    {
      "cell_type": "code",
      "source": [
        "for i in range(26):\n",
        "  os.rename(f\"alphabets/alphabet{i+1}\", f\"alphabets/{chr(65+i)}\")"
      ],
      "metadata": {
        "id": "AnzvTOSNBJkg"
      },
      "execution_count": 19,
      "outputs": []
    },
    {
      "cell_type": "code",
      "source": [
        "# Files have now been renamed!\n",
        "# Once again, we have saved quite a bit of time by avoiding manual renaming of all the sub-folders."
      ],
      "metadata": {
        "id": "o1pTkRV-BYMd"
      },
      "execution_count": 21,
      "outputs": []
    },
    {
      "cell_type": "code",
      "source": [
        "# Now, if I wanted to check what folders are present in a directory?\n",
        "# Well let us check whether our previous code ran correctly through the use of some more code!"
      ],
      "metadata": {
        "id": "ZqUed7TxB4XA"
      },
      "execution_count": 22,
      "outputs": []
    },
    {
      "cell_type": "code",
      "source": [
        "folders = os.listdir('alphabets')\n",
        "folders.sort()\n",
        "for folder in folders:\n",
        "  print(folder, sep=' ')"
      ],
      "metadata": {
        "colab": {
          "base_uri": "https://localhost:8080/"
        },
        "id": "yL3eqMOOChca",
        "outputId": "1f92c575-4b1e-43bd-a040-7c0e9a2ae2eb"
      },
      "execution_count": 29,
      "outputs": [
        {
          "output_type": "stream",
          "name": "stdout",
          "text": [
            ".ipynb_checkpoints\n",
            "A\n",
            "B\n",
            "C\n",
            "D\n",
            "E\n",
            "F\n",
            "G\n",
            "H\n",
            "I\n",
            "J\n",
            "K\n",
            "L\n",
            "M\n",
            "N\n",
            "O\n",
            "P\n",
            "Q\n",
            "R\n",
            "S\n",
            "T\n",
            "U\n",
            "V\n",
            "W\n",
            "X\n",
            "Y\n",
            "Z\n"
          ]
        }
      ]
    },
    {
      "cell_type": "code",
      "source": [
        "# If I get lost somehow and want to know which directory I am currently in, that can be done as well!"
      ],
      "metadata": {
        "id": "IoS2TIqqDhn2"
      },
      "execution_count": 30,
      "outputs": []
    },
    {
      "cell_type": "code",
      "source": [
        "os.getcwd() # Getting the current working directory"
      ],
      "metadata": {
        "colab": {
          "base_uri": "https://localhost:8080/",
          "height": 36
        },
        "id": "PMjOik8CDphV",
        "outputId": "2f610578-e6d8-4426-ed96-307462f008eb"
      },
      "execution_count": 32,
      "outputs": [
        {
          "output_type": "execute_result",
          "data": {
            "text/plain": [
              "'/content'"
            ],
            "application/vnd.google.colaboratory.intrinsic+json": {
              "type": "string"
            }
          },
          "metadata": {},
          "execution_count": 32
        }
      ]
    },
    {
      "cell_type": "code",
      "source": [
        "# So, now that I know I am not where I want to be, I can change my directory according to my need."
      ],
      "metadata": {
        "id": "YU8ClHfNDtml"
      },
      "execution_count": 34,
      "outputs": []
    },
    {
      "cell_type": "code",
      "source": [
        "os.chdir('alphabets')\n",
        "os.getcwd()"
      ],
      "metadata": {
        "colab": {
          "base_uri": "https://localhost:8080/",
          "height": 36
        },
        "id": "_PNYoMmTD65L",
        "outputId": "a7d48421-3c74-472a-825e-8da81e461d74"
      },
      "execution_count": 35,
      "outputs": [
        {
          "output_type": "execute_result",
          "data": {
            "text/plain": [
              "'/content/alphabets'"
            ],
            "application/vnd.google.colaboratory.intrinsic+json": {
              "type": "string"
            }
          },
          "metadata": {},
          "execution_count": 35
        }
      ]
    },
    {
      "cell_type": "code",
      "source": [
        "# If I lose my love for the A alphabet, I can delete it as well."
      ],
      "metadata": {
        "id": "4uCOyNhqEZOk"
      },
      "execution_count": 36,
      "outputs": []
    },
    {
      "cell_type": "code",
      "source": [
        "os.rmdir('/content/alphabets/A') # Works on empty directories only"
      ],
      "metadata": {
        "id": "2_6RyEyhEgBS"
      },
      "execution_count": 40,
      "outputs": []
    },
    {
      "cell_type": "code",
      "source": [
        "folders = os.listdir('/content/alphabets')\n",
        "folders.sort()\n",
        "for folder in folders:\n",
        "  print(folder)"
      ],
      "metadata": {
        "colab": {
          "base_uri": "https://localhost:8080/"
        },
        "id": "U95aH_a2E-5y",
        "outputId": "4845a659-0b8a-4e08-8e75-f216d1590434"
      },
      "execution_count": 42,
      "outputs": [
        {
          "output_type": "stream",
          "name": "stdout",
          "text": [
            ".ipynb_checkpoints\n",
            "B\n",
            "C\n",
            "D\n",
            "E\n",
            "F\n",
            "G\n",
            "H\n",
            "I\n",
            "J\n",
            "K\n",
            "L\n",
            "M\n",
            "N\n",
            "O\n",
            "P\n",
            "Q\n",
            "R\n",
            "S\n",
            "T\n",
            "U\n",
            "V\n",
            "W\n",
            "X\n",
            "Y\n",
            "Z\n"
          ]
        }
      ]
    },
    {
      "cell_type": "code",
      "source": [
        "# We no longer see the A folder. This makes me happy.\n",
        "# What if I lose my love for the entire alphabets folder?\n",
        "# Well, first I need to empty the 'alphabets' directory and then remove it as well."
      ],
      "metadata": {
        "id": "KebkmbbyFKgz"
      },
      "execution_count": 43,
      "outputs": []
    },
    {
      "cell_type": "code",
      "source": [
        "folders = os.listdir('/content/alphabets')\n",
        "for folder in folders:\n",
        "  os.rmdir(folder)"
      ],
      "metadata": {
        "id": "riP4MiEmFfut"
      },
      "execution_count": 45,
      "outputs": []
    },
    {
      "cell_type": "code",
      "source": [
        "os.rmdir('/content/alphabets')"
      ],
      "metadata": {
        "id": "rX2AGHCsFko1"
      },
      "execution_count": 46,
      "outputs": []
    },
    {
      "cell_type": "code",
      "source": [
        "# Making folders is fine, but I want to know what OS I am actually working with here!\n",
        "# We can do that as well!"
      ],
      "metadata": {
        "id": "cjcDZe_EF9Tm"
      },
      "execution_count": 48,
      "outputs": []
    },
    {
      "cell_type": "code",
      "source": [
        "os.name"
      ],
      "metadata": {
        "colab": {
          "base_uri": "https://localhost:8080/",
          "height": 36
        },
        "id": "iBCfaEC-F7gP",
        "outputId": "b6d17508-b382-45a3-d351-6bf7187b2bac"
      },
      "execution_count": 47,
      "outputs": [
        {
          "output_type": "execute_result",
          "data": {
            "text/plain": [
              "'posix'"
            ],
            "application/vnd.google.colaboratory.intrinsic+json": {
              "type": "string"
            }
          },
          "metadata": {},
          "execution_count": 47
        }
      ]
    },
    {
      "cell_type": "code",
      "source": [
        "# posix means Portable Operating System Interface, and it is basically the OS being used in our work environment in this notebook."
      ],
      "metadata": {
        "id": "wgTeHTvSGKqr"
      },
      "execution_count": 49,
      "outputs": []
    },
    {
      "cell_type": "code",
      "source": [],
      "metadata": {
        "id": "rooyL_PGGdVL"
      },
      "execution_count": null,
      "outputs": []
    }
  ]
}