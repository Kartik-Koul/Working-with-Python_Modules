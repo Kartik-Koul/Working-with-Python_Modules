{
  "nbformat": 4,
  "nbformat_minor": 0,
  "metadata": {
    "colab": {
      "provenance": [],
      "authorship_tag": "ABX9TyM2LMN4618E7C2qaQ79Vw0f",
      "include_colab_link": true
    },
    "kernelspec": {
      "name": "python3",
      "display_name": "Python 3"
    },
    "language_info": {
      "name": "python"
    }
  },
  "cells": [
    {
      "cell_type": "markdown",
      "metadata": {
        "id": "view-in-github",
        "colab_type": "text"
      },
      "source": [
        "<a href=\"https://colab.research.google.com/github/Kartik-Koul/Working-with-Python_Modules/blob/main/Playing_Around_With_JSON.ipynb\" target=\"_parent\"><img src=\"https://colab.research.google.com/assets/colab-badge.svg\" alt=\"Open In Colab\"/></a>"
      ]
    },
    {
      "cell_type": "code",
      "execution_count": 1,
      "metadata": {
        "id": "hXunq6G76p-4"
      },
      "outputs": [],
      "source": [
        "# JSON stands for Java Script Object Notation.\n",
        "# It is basically the way objects are denoted when you're working with JS.\n",
        "# I just came across this module and just saw a couple of functions that seem useful.\n",
        "# So this won't really be that comprehensive of a notebook, and reading the documentation will suffice as well.\n",
        "# However, I just wanted to try out some basic codes with this library myself."
      ]
    },
    {
      "cell_type": "code",
      "source": [
        "# The two main functions of this library are Serialization and Deserialization.\n",
        "# Serialization - Taking a Python object and converting it to a JSON string or writing to a JSON file.\n",
        "# Deserialization - Taking a JSON file or string and converting it to a Python object.\n",
        "# Easy enough?"
      ],
      "metadata": {
        "id": "c3RuBU3Q7V2h"
      },
      "execution_count": 2,
      "outputs": []
    },
    {
      "cell_type": "code",
      "source": [
        "import json"
      ],
      "metadata": {
        "id": "j_4jkkZ27u9g"
      },
      "execution_count": 3,
      "outputs": []
    },
    {
      "cell_type": "code",
      "source": [
        "# Defining a simple Python dictionary object\n",
        "data = {\n",
        "    \"name\" : \"Kartik\",\n",
        "    \"age\" : 21,\n",
        "    \"city\" : \"Patiala\",\n",
        "    \"status\" : \"student\",\n",
        "    \"interests\" : [\"Math\", \"English\"]\n",
        "}\n",
        "\n",
        "# Serializing to a JSON string\n",
        "json_string = json.dumps(data)\n",
        "print(json_string)"
      ],
      "metadata": {
        "colab": {
          "base_uri": "https://localhost:8080/"
        },
        "id": "IanwPasV8UcX",
        "outputId": "d1ac05fc-176d-400e-c270-c51f12a5dddb"
      },
      "execution_count": 4,
      "outputs": [
        {
          "output_type": "stream",
          "name": "stdout",
          "text": [
            "{\"name\": \"Kartik\", \"age\": 21, \"city\": \"Patiala\", \"status\": \"student\", \"interests\": [\"Math\", \"English\"]}\n"
          ]
        }
      ]
    },
    {
      "cell_type": "code",
      "source": [
        "data = {\n",
        "    \"name\" : \"Kartik\",\n",
        "    \"age\" : 21,\n",
        "    \"city\" : \"Patiala\",\n",
        "    \"status\" : \"student\",\n",
        "    \"interests\" : [\"Math\", \"English\"]\n",
        "}\n",
        "\n",
        "# Serializing and writing to a JSON file\n",
        "with open('data.json', 'w') as file:\n",
        "    json.dump(data, file)"
      ],
      "metadata": {
        "id": "nG8RgwFE83uC"
      },
      "execution_count": 7,
      "outputs": []
    },
    {
      "cell_type": "markdown",
      "source": [
        "> A pretty simple output\n",
        "![image.png](data:image/png;base64,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)"
      ],
      "metadata": {
        "id": "24tMJofm9aoi"
      }
    },
    {
      "cell_type": "code",
      "source": [
        "json_string = '{\"name\": \"Kartik\", \"age\": 21, \"city\": \"Patiala\", \"status\": \"student\", \"interests\": [\"Math\", \"English\"]}'\n",
        "type(json_string)\n",
        "data = json.loads(json_string) # Deserializing from JSON string to Python object\n",
        "print(data)\n",
        "type(data)"
      ],
      "metadata": {
        "colab": {
          "base_uri": "https://localhost:8080/"
        },
        "id": "Woog5nNs9Jls",
        "outputId": "6fb218fe-f7b1-47ec-af47-e3f2aad33831"
      },
      "execution_count": 12,
      "outputs": [
        {
          "output_type": "stream",
          "name": "stdout",
          "text": [
            "{'name': 'Kartik', 'age': 21, 'city': 'Patiala', 'status': 'student', 'interests': ['Math', 'English']}\n"
          ]
        },
        {
          "output_type": "execute_result",
          "data": {
            "text/plain": [
              "dict"
            ]
          },
          "metadata": {},
          "execution_count": 12
        }
      ]
    },
    {
      "cell_type": "code",
      "source": [
        "# Deserializing from JSON file to Python object\n",
        "\n",
        "with open('data.json', 'r') as f:\n",
        "  data = json.load(f)\n",
        "\n",
        "print(data)"
      ],
      "metadata": {
        "colab": {
          "base_uri": "https://localhost:8080/"
        },
        "id": "L6W78xXi-JT_",
        "outputId": "90888623-06bf-44e3-f2d8-9c30188805db"
      },
      "execution_count": 14,
      "outputs": [
        {
          "output_type": "stream",
          "name": "stdout",
          "text": [
            "{'name': 'Kartik', 'age': 21, 'city': 'Patiala', 'status': 'student', 'interests': ['Math', 'English']}\n"
          ]
        }
      ]
    },
    {
      "cell_type": "code",
      "source": [
        "# That's more or less it for this module, at least the functions I have found used till now.\n",
        "# I'll add more functions if I come across them.\n",
        "# Not a lot of functions and these are simple too."
      ],
      "metadata": {
        "id": "eHfPj8ak-Q7I"
      },
      "execution_count": 16,
      "outputs": []
    }
  ]
}